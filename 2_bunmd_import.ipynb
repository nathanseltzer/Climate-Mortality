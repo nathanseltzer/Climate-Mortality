{
 "cells": [
  {
   "cell_type": "markdown",
   "metadata": {},
   "source": [
    "# 2_bunmd_import.ipynb"
   ]
  },
  {
   "cell_type": "markdown",
   "metadata": {},
   "source": [
    "This file reads in the the large BUNMD file and creates subset files for women and men."
   ]
  },
  {
   "cell_type": "code",
   "execution_count": 1,
   "metadata": {},
   "outputs": [],
   "source": [
    "import pandas as pd"
   ]
  },
  {
   "cell_type": "code",
   "execution_count": 2,
   "metadata": {},
   "outputs": [
    {
     "name": "stderr",
     "output_type": "stream",
     "text": [
      "/opt/homebrew/Caskroom/miniforge/base/envs/tf_env/lib/python3.9/site-packages/IPython/core/interactiveshell.py:3457: DtypeWarning: Columns (34) have mixed types.Specify dtype option on import or set low_memory=False.\n",
      "  exec(code_obj, self.user_global_ns, self.user_ns)\n"
     ]
    }
   ],
   "source": [
    "# Read in BUNMD file -- note: large file 7.6GB -- best time so far is 3m 53.2s\n",
    "\n",
    "bunmd2_raw = pd.read_csv(os.getcwd() + '/data/bunmd_v2.csv')"
   ]
  },
  {
   "cell_type": "code",
   "execution_count": 4,
   "metadata": {},
   "outputs": [],
   "source": [
    "bunmd2_raw_male = bunmd2_raw[bunmd2_raw['sex'] == 1]\n",
    "bunmd2_raw_male.to_csv(os.getcwd() + \"/data/bunmd2_raw_male.csv\")"
   ]
  },
  {
   "cell_type": "code",
   "execution_count": 5,
   "metadata": {},
   "outputs": [],
   "source": [
    "bunmd2_raw_female = bunmd2_raw[bunmd2_raw['sex'] == 2]\n",
    "bunmd2_raw_female.to_csv(os.getcwd() + \"/data/bunmd2_raw_female.csv\")"
   ]
  }
 ],
 "metadata": {
  "interpreter": {
   "hash": "abfa3a40ca4ae14957eab2c7b2340affb65e642fccfdc8bca44a4575b0473079"
  },
  "kernelspec": {
   "display_name": "Python 3.9.7 ('tf_env')",
   "language": "python",
   "name": "python3"
  },
  "language_info": {
   "codemirror_mode": {
    "name": "ipython",
    "version": 3
   },
   "file_extension": ".py",
   "mimetype": "text/x-python",
   "name": "python",
   "nbconvert_exporter": "python",
   "pygments_lexer": "ipython3",
   "version": "3.9.7"
  },
  "orig_nbformat": 4
 },
 "nbformat": 4,
 "nbformat_minor": 2
}
