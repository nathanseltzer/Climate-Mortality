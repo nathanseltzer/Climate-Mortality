{
 "cells": [
  {
   "cell_type": "markdown",
   "metadata": {},
   "source": [
    "# 4_analysis.ipynb"
   ]
  },
  {
   "cell_type": "code",
   "execution_count": 1,
   "metadata": {},
   "outputs": [],
   "source": [
    "import numpy as np\n",
    "import pandas as pd\n",
    "import seaborn as sns\n",
    "from linearmodels import PanelOLS\n",
    "import matplotlib.pyplot as plt\n",
    "%matplotlib inline"
   ]
  },
  {
   "cell_type": "code",
   "execution_count": 2,
   "metadata": {},
   "outputs": [
    {
     "name": "stderr",
     "output_type": "stream",
     "text": [
      "/opt/homebrew/Caskroom/miniforge/base/envs/tf_env/lib/python3.9/site-packages/IPython/core/interactiveshell.py:3457: DtypeWarning: Columns (3,36) have mixed types.Specify dtype option on import or set low_memory=False.\n",
      "  exec(code_obj, self.user_global_ns, self.user_ns)\n"
     ]
    },
    {
     "data": {
      "text/plain": [
       "(8504384, 95)"
      ]
     },
     "execution_count": 2,
     "metadata": {},
     "output_type": "execute_result"
    }
   ],
   "source": [
    "bunmd2_male_CLEAN = pd.read_csv(os.getcwd() + '/data/bunmd2_male_CLEAN.csv')\n",
    "\n",
    "bunmd2_male_CLEAN.shape"
   ]
  },
  {
   "cell_type": "code",
   "execution_count": 3,
   "metadata": {},
   "outputs": [],
   "source": [
    "male = bunmd2_male_CLEAN[bunmd2_male_CLEAN['byear'] > 1895]\n",
    "male = male.set_index(['BPL_int', 'byear'])"
   ]
  },
  {
   "cell_type": "code",
   "execution_count": 4,
   "metadata": {},
   "outputs": [],
   "source": [
    "male2 = male[['pastyearx_AVG', 'year1x_AVG', 'year2x_AVG', 'year3x_AVG', 'year4x_AVG', 'bmonth']]\n",
    "male2 = pd.get_dummies(male2, columns=['bmonth']).drop(columns = 'bmonth_1.0')"
   ]
  },
  {
   "cell_type": "code",
   "execution_count": 5,
   "metadata": {},
   "outputs": [
    {
     "data": {
      "text/html": [
       "<table class=\"simpletable\">\n",
       "<caption>PanelOLS Estimation Summary</caption>\n",
       "<tr>\n",
       "  <th>Dep. Variable:</th>        <td>death_age</td>    <th>  R-squared:         </th>      <td>0.0019</td>    \n",
       "</tr>\n",
       "<tr>\n",
       "  <th>Estimator:</th>            <td>PanelOLS</td>     <th>  R-squared (Between):</th>     <td>-0.0685</td>   \n",
       "</tr>\n",
       "<tr>\n",
       "  <th>No. Observations:</th>      <td>8501831</td>     <th>  R-squared (Within):</th>      <td>0.0017</td>    \n",
       "</tr>\n",
       "<tr>\n",
       "  <th>Date:</th>             <td>Mon, Mar 21 2022</td> <th>  R-squared (Overall):</th>     <td>-0.0680</td>   \n",
       "</tr>\n",
       "<tr>\n",
       "  <th>Time:</th>                 <td>12:15:50</td>     <th>  Log-likelihood     </th>    <td>-2.486e+07</td>  \n",
       "</tr>\n",
       "<tr>\n",
       "  <th>Cov. Estimator:</th>       <td>Clustered</td>    <th>                     </th>         <td></td>       \n",
       "</tr>\n",
       "<tr>\n",
       "  <th></th>                          <td></td>         <th>  F-statistic:       </th>      <td>1016.2</td>    \n",
       "</tr>\n",
       "<tr>\n",
       "  <th>Entities:</th>                <td>49</td>        <th>  P-value            </th>      <td>0.0000</td>    \n",
       "</tr>\n",
       "<tr>\n",
       "  <th>Avg Obs:</th>              <td>1.735e+05</td>    <th>  Distribution:      </th>   <td>F(16,8501722)</td>\n",
       "</tr>\n",
       "<tr>\n",
       "  <th>Min Obs:</th>               <td>1621.0</td>      <th>                     </th>         <td></td>       \n",
       "</tr>\n",
       "<tr>\n",
       "  <th>Max Obs:</th>              <td>7.444e+05</td>    <th>  F-statistic (robust):</th>    <td>2186.9</td>    \n",
       "</tr>\n",
       "<tr>\n",
       "  <th></th>                          <td></td>         <th>  P-value            </th>      <td>0.0000</td>    \n",
       "</tr>\n",
       "<tr>\n",
       "  <th>Time periods:</th>            <td>45</td>        <th>  Distribution:      </th>   <td>F(16,8501722)</td>\n",
       "</tr>\n",
       "<tr>\n",
       "  <th>Avg Obs:</th>              <td>1.889e+05</td>    <th>                     </th>         <td></td>       \n",
       "</tr>\n",
       "<tr>\n",
       "  <th>Min Obs:</th>               <td>3422.0</td>      <th>                     </th>         <td></td>       \n",
       "</tr>\n",
       "<tr>\n",
       "  <th>Max Obs:</th>              <td>4.929e+05</td>    <th>                     </th>         <td></td>       \n",
       "</tr>\n",
       "<tr>\n",
       "  <th></th>                          <td></td>         <th>                     </th>         <td></td>       \n",
       "</tr>\n",
       "</table>\n",
       "<table class=\"simpletable\">\n",
       "<caption>Parameter Estimates</caption>\n",
       "<tr>\n",
       "        <td></td>        <th>Parameter</th> <th>Std. Err.</th> <th>T-stat</th>  <th>P-value</th> <th>Lower CI</th> <th>Upper CI</th>\n",
       "</tr>\n",
       "<tr>\n",
       "  <th>pastyearx_AVG</th>  <td>-0.0094</td>   <td>0.0029</td>   <td>-3.2548</td> <td>0.0011</td>   <td>-0.0150</td>  <td>-0.0037</td>\n",
       "</tr>\n",
       "<tr>\n",
       "  <th>year1x_AVG</th>     <td>-0.0076</td>   <td>0.0027</td>   <td>-2.8803</td> <td>0.0040</td>   <td>-0.0128</td>  <td>-0.0024</td>\n",
       "</tr>\n",
       "<tr>\n",
       "  <th>year2x_AVG</th>     <td>-0.0087</td>   <td>0.0028</td>   <td>-3.0706</td> <td>0.0021</td>   <td>-0.0143</td>  <td>-0.0032</td>\n",
       "</tr>\n",
       "<tr>\n",
       "  <th>year3x_AVG</th>     <td>-0.0091</td>   <td>0.0032</td>   <td>-2.8390</td> <td>0.0045</td>   <td>-0.0153</td>  <td>-0.0028</td>\n",
       "</tr>\n",
       "<tr>\n",
       "  <th>year4x_AVG</th>     <td>-0.0075</td>   <td>0.0028</td>   <td>-2.7195</td> <td>0.0065</td>   <td>-0.0130</td>  <td>-0.0021</td>\n",
       "</tr>\n",
       "<tr>\n",
       "  <th>bmonth_2.0</th>     <td>-0.0773</td>   <td>0.0081</td>   <td>-9.5900</td> <td>0.0000</td>   <td>-0.0931</td>  <td>-0.0615</td>\n",
       "</tr>\n",
       "<tr>\n",
       "  <th>bmonth_3.0</th>     <td>-0.1481</td>   <td>0.0088</td>   <td>-16.890</td> <td>0.0000</td>   <td>-0.1653</td>  <td>-0.1309</td>\n",
       "</tr>\n",
       "<tr>\n",
       "  <th>bmonth_4.0</th>     <td>-0.2132</td>   <td>0.0096</td>   <td>-22.275</td> <td>0.0000</td>   <td>-0.2319</td>  <td>-0.1944</td>\n",
       "</tr>\n",
       "<tr>\n",
       "  <th>bmonth_5.0</th>     <td>-0.2714</td>   <td>0.0082</td>   <td>-33.259</td> <td>0.0000</td>   <td>-0.2874</td>  <td>-0.2554</td>\n",
       "</tr>\n",
       "<tr>\n",
       "  <th>bmonth_6.0</th>     <td>-0.3241</td>   <td>0.0094</td>   <td>-34.659</td> <td>0.0000</td>   <td>-0.3425</td>  <td>-0.3058</td>\n",
       "</tr>\n",
       "<tr>\n",
       "  <th>bmonth_7.0</th>     <td>-0.3630</td>   <td>0.0072</td>   <td>-50.164</td> <td>0.0000</td>   <td>-0.3772</td>  <td>-0.3488</td>\n",
       "</tr>\n",
       "<tr>\n",
       "  <th>bmonth_8.0</th>     <td>-0.4137</td>   <td>0.0086</td>   <td>-47.840</td> <td>0.0000</td>   <td>-0.4307</td>  <td>-0.3968</td>\n",
       "</tr>\n",
       "<tr>\n",
       "  <th>bmonth_9.0</th>     <td>-0.4720</td>   <td>0.0083</td>   <td>-56.672</td> <td>0.0000</td>   <td>-0.4884</td>  <td>-0.4557</td>\n",
       "</tr>\n",
       "<tr>\n",
       "  <th>bmonth_10.0</th>    <td>-0.5228</td>   <td>0.0082</td>   <td>-63.415</td> <td>0.0000</td>   <td>-0.5390</td>  <td>-0.5067</td>\n",
       "</tr>\n",
       "<tr>\n",
       "  <th>bmonth_11.0</th>    <td>-0.5916</td>   <td>0.0064</td>   <td>-92.356</td> <td>0.0000</td>   <td>-0.6041</td>  <td>-0.5790</td>\n",
       "</tr>\n",
       "<tr>\n",
       "  <th>bmonth_12.0</th>    <td>-0.6667</td>   <td>0.0089</td>   <td>-75.320</td> <td>0.0000</td>   <td>-0.6840</td>  <td>-0.6493</td>\n",
       "</tr>\n",
       "</table><br/><br/>F-test for Poolability: 1.124e+05<br/>P-value: 0.0000<br/>Distribution: F(92,8501722)<br/><br/>Included effects: Entity, Time<br/>id: 0x11082a8b0"
      ],
      "text/plain": [
       "                          PanelOLS Estimation Summary                           \n",
       "================================================================================\n",
       "Dep. Variable:              death_age   R-squared:                        0.0019\n",
       "Estimator:                   PanelOLS   R-squared (Between):             -0.0685\n",
       "No. Observations:             8501831   R-squared (Within):               0.0017\n",
       "Date:                Mon, Mar 21 2022   R-squared (Overall):             -0.0680\n",
       "Time:                        12:15:50   Log-likelihood                -2.486e+07\n",
       "Cov. Estimator:             Clustered                                           \n",
       "                                        F-statistic:                      1016.2\n",
       "Entities:                          49   P-value                           0.0000\n",
       "Avg Obs:                    1.735e+05   Distribution:              F(16,8501722)\n",
       "Min Obs:                       1621.0                                           \n",
       "Max Obs:                    7.444e+05   F-statistic (robust):             2186.9\n",
       "                                        P-value                           0.0000\n",
       "Time periods:                      45   Distribution:              F(16,8501722)\n",
       "Avg Obs:                    1.889e+05                                           \n",
       "Min Obs:                       3422.0                                           \n",
       "Max Obs:                    4.929e+05                                           \n",
       "                                                                                \n",
       "                               Parameter Estimates                               \n",
       "=================================================================================\n",
       "               Parameter  Std. Err.     T-stat    P-value    Lower CI    Upper CI\n",
       "---------------------------------------------------------------------------------\n",
       "pastyearx_AVG    -0.0094     0.0029    -3.2548     0.0011     -0.0150     -0.0037\n",
       "year1x_AVG       -0.0076     0.0027    -2.8803     0.0040     -0.0128     -0.0024\n",
       "year2x_AVG       -0.0087     0.0028    -3.0706     0.0021     -0.0143     -0.0032\n",
       "year3x_AVG       -0.0091     0.0032    -2.8390     0.0045     -0.0153     -0.0028\n",
       "year4x_AVG       -0.0075     0.0028    -2.7195     0.0065     -0.0130     -0.0021\n",
       "bmonth_2.0       -0.0773     0.0081    -9.5900     0.0000     -0.0931     -0.0615\n",
       "bmonth_3.0       -0.1481     0.0088    -16.890     0.0000     -0.1653     -0.1309\n",
       "bmonth_4.0       -0.2132     0.0096    -22.275     0.0000     -0.2319     -0.1944\n",
       "bmonth_5.0       -0.2714     0.0082    -33.259     0.0000     -0.2874     -0.2554\n",
       "bmonth_6.0       -0.3241     0.0094    -34.659     0.0000     -0.3425     -0.3058\n",
       "bmonth_7.0       -0.3630     0.0072    -50.164     0.0000     -0.3772     -0.3488\n",
       "bmonth_8.0       -0.4137     0.0086    -47.840     0.0000     -0.4307     -0.3968\n",
       "bmonth_9.0       -0.4720     0.0083    -56.672     0.0000     -0.4884     -0.4557\n",
       "bmonth_10.0      -0.5228     0.0082    -63.415     0.0000     -0.5390     -0.5067\n",
       "bmonth_11.0      -0.5916     0.0064    -92.356     0.0000     -0.6041     -0.5790\n",
       "bmonth_12.0      -0.6667     0.0089    -75.320     0.0000     -0.6840     -0.6493\n",
       "=================================================================================\n",
       "\n",
       "F-test for Poolability: 1.124e+05\n",
       "P-value: 0.0000\n",
       "Distribution: F(92,8501722)\n",
       "\n",
       "Included effects: Entity, Time\n",
       "PanelEffectsResults, id: 0x11082a8b0"
      ]
     },
     "execution_count": 5,
     "metadata": {},
     "output_type": "execute_result"
    }
   ],
   "source": [
    "FE = PanelOLS(male.death_age , male2,\n",
    "              entity_effects = True,\n",
    "              time_effects=True,\n",
    "              weights= male.weight\n",
    "              )\n",
    "            \n",
    "result = FE.fit(cov_type = 'clustered',\n",
    "             cluster_entity=True,\n",
    "             # cluster_time=True\n",
    "             )\n",
    "\n",
    "result"
   ]
  },
  {
   "cell_type": "code",
   "execution_count": 6,
   "metadata": {},
   "outputs": [
    {
     "data": {
      "text/plain": [
       "<AxesSubplot:>"
      ]
     },
     "execution_count": 6,
     "metadata": {},
     "output_type": "execute_result"
    },
    {
     "data": {
      "image/png": "[encoded data removed]",
      "text/plain": [
       "<Figure size 432x288 with 1 Axes>"
      ]
     },
     "metadata": {
      "needs_background": "light"
     },
     "output_type": "display_data"
    }
   ],
   "source": [
    "male.death_age.hist(bins = 35)"
   ]
  }
 ],
 "metadata": {
  "interpreter": {
   "hash": "abfa3a40ca4ae14957eab2c7b2340affb65e642fccfdc8bca44a4575b0473079"
  },
  "kernelspec": {
   "display_name": "Python 3.9.7 ('tf_env')",
   "language": "python",
   "name": "python3"
  },
  "language_info": {
   "codemirror_mode": {
    "name": "ipython",
    "version": 3
   },
   "file_extension": ".py",
   "mimetype": "text/x-python",
   "name": "python",
   "nbconvert_exporter": "python",
   "pygments_lexer": "ipython3",
   "version": "3.9.7"
  },
  "orig_nbformat": 4
 },
 "nbformat": 4,
 "nbformat_minor": 2
}
