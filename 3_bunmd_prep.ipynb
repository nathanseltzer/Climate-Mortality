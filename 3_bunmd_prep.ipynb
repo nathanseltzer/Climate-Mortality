{
 "cells": [
  {
   "cell_type": "markdown",
   "metadata": {},
   "source": [
    "# 3_bunmd_prep.ipynb"
   ]
  },
  {
   "cell_type": "markdown",
   "metadata": {},
   "source": [
    "This file wrangles the gender-specific BUNMD files, including dropping NA weight values and merging in the NOAA temperature data."
   ]
  },
  {
   "cell_type": "code",
   "execution_count": 1,
   "metadata": {},
   "outputs": [],
   "source": [
    "import pandas as pd\n",
    "import numpy as np"
   ]
  },
  {
   "cell_type": "code",
   "execution_count": 2,
   "metadata": {},
   "outputs": [],
   "source": [
    "%run -i '1_noaa_import.ipynb'"
   ]
  },
  {
   "cell_type": "code",
   "execution_count": 3,
   "metadata": {},
   "outputs": [
    {
     "name": "stderr",
     "output_type": "stream",
     "text": [
      "/opt/homebrew/Caskroom/miniforge/base/envs/tf_env/lib/python3.9/site-packages/IPython/core/interactiveshell.py:3457: DtypeWarning: Columns (35) have mixed types.Specify dtype option on import or set low_memory=False.\n",
      "  exec(code_obj, self.user_global_ns, self.user_ns)\n"
     ]
    }
   ],
   "source": [
    "bunmd2_raw_female = pd.read_csv(os.getcwd() + '/data/bunmd2_raw_female.csv')\n",
    "bunmd2_raw_male = pd.read_csv(os.getcwd() + '/data/bunmd2_raw_male.csv')"
   ]
  },
  {
   "cell_type": "code",
   "execution_count": 4,
   "metadata": {},
   "outputs": [],
   "source": [
    "def bunmd_wrangle(dataset):\n",
    "    dataset = dataset[dataset['weight'].notna()]\n",
    "    dataset['bpl_name'] = dataset['bpl_string'].str.lower()\n",
    "    dataset = dataset.merge(alltemp_long_e, on = [\"byear\", \"bmonth\", \"bpl_name\"], how=\"left\")\n",
    "    dataset = dataset[dataset['avg_temp'].notna()]\n",
    "    return dataset"
   ]
  },
  {
   "cell_type": "code",
   "execution_count": 5,
   "metadata": {},
   "outputs": [
    {
     "name": "stderr",
     "output_type": "stream",
     "text": [
      "/var/folders/f0/lv4rn9cj3773mrlxlb1vmf380000gn/T/ipykernel_90056/2955341619.py:3: SettingWithCopyWarning: \n",
      "A value is trying to be set on a copy of a slice from a DataFrame.\n",
      "Try using .loc[row_indexer,col_indexer] = value instead\n",
      "\n",
      "See the caveats in the documentation: https://pandas.pydata.org/pandas-docs/stable/user_guide/indexing.html#returning-a-view-versus-a-copy\n",
      "  dataset['bpl_name'] = dataset['bpl_string'].str.lower()\n"
     ]
    }
   ],
   "source": [
    "bunmd2_male_CLEAN = bunmd_wrangle(bunmd2_raw_male)"
   ]
  },
  {
   "cell_type": "code",
   "execution_count": 6,
   "metadata": {},
   "outputs": [],
   "source": [
    "bunmd2_male_CLEAN.to_csv(os.getcwd() + \"/data/bunmd2_male_CLEAN.csv\")"
   ]
  },
  {
   "cell_type": "code",
   "execution_count": 7,
   "metadata": {},
   "outputs": [
    {
     "name": "stderr",
     "output_type": "stream",
     "text": [
      "/var/folders/f0/lv4rn9cj3773mrlxlb1vmf380000gn/T/ipykernel_90056/2955341619.py:3: SettingWithCopyWarning: \n",
      "A value is trying to be set on a copy of a slice from a DataFrame.\n",
      "Try using .loc[row_indexer,col_indexer] = value instead\n",
      "\n",
      "See the caveats in the documentation: https://pandas.pydata.org/pandas-docs/stable/user_guide/indexing.html#returning-a-view-versus-a-copy\n",
      "  dataset['bpl_name'] = dataset['bpl_string'].str.lower()\n"
     ]
    }
   ],
   "source": [
    "bunmd2_female_CLEAN = bunmd_wrangle(bunmd2_raw_female)"
   ]
  },
  {
   "cell_type": "code",
   "execution_count": 8,
   "metadata": {},
   "outputs": [],
   "source": [
    "bunmd2_female_CLEAN.to_csv(os.getcwd() + \"/data/bunmd2_female_CLEAN.csv\")"
   ]
  }
 ],
 "metadata": {
  "interpreter": {
   "hash": "abfa3a40ca4ae14957eab2c7b2340affb65e642fccfdc8bca44a4575b0473079"
  },
  "kernelspec": {
   "display_name": "Python 3.9.7 ('tf_env')",
   "language": "python",
   "name": "python3"
  },
  "language_info": {
   "codemirror_mode": {
    "name": "ipython",
    "version": 3
   },
   "file_extension": ".py",
   "mimetype": "text/x-python",
   "name": "python",
   "nbconvert_exporter": "python",
   "pygments_lexer": "ipython3",
   "version": "3.9.7"
  },
  "orig_nbformat": 4
 },
 "nbformat": 4,
 "nbformat_minor": 2
}
